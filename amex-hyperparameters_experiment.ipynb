{
 "metadata": {
  "kernelspec": {
   "language": "python",
   "display_name": "Python 3",
   "name": "python3"
  },
  "language_info": {
   "name": "python",
   "version": "3.7.12",
   "mimetype": "text/x-python",
   "codemirror_mode": {
    "name": "ipython",
    "version": 3
   },
   "pygments_lexer": "ipython3",
   "nbconvert_exporter": "python",
   "file_extension": ".py"
  }
 },
 "nbformat_minor": 4,
 "nbformat": 4,
 "cells": [
  {
   "cell_type": "code",
   "source": [
    "from catboost import CatBoostClassifier\n",
    "import gc; gc.enable()\n",
    "from sklearn import *\n",
    "import pandas as pd\n",
    "import numpy as np\n",
    "import numba, os\n",
    "from sklearn.model_selection import StratifiedKFold\n",
    "import datetime"
   ],
   "metadata": {
    "execution": {
     "iopub.status.busy": "2022-08-04T19:44:14.127994Z",
     "iopub.execute_input": "2022-08-04T19:44:14.129327Z",
     "iopub.status.idle": "2022-08-04T19:44:17.125752Z",
     "shell.execute_reply.started": "2022-08-04T19:44:14.129208Z",
     "shell.execute_reply": "2022-08-04T19:44:17.124057Z"
    },
    "trusted": true
   },
   "execution_count": 1,
   "outputs": []
  },
  {
   "cell_type": "code",
   "source": [
    "# @yunchonggan's fast metric implementation\n",
    "# From https://www.kaggle.com/competitions/amex-default-prediction/discussion/328020\n",
    "def amex_metric(y_true: np.array, y_pred: np.array) -> float:\n",
    "\n",
    "    # count of positives and negatives\n",
    "    n_pos = y_true.sum()\n",
    "    n_neg = y_true.shape[0] - n_pos\n",
    "\n",
    "    # sorting by descring prediction values\n",
    "    indices = np.argsort(y_pred)[::-1]\n",
    "    preds, target = y_pred[indices], y_true[indices]\n",
    "\n",
    "    # filter the top 4% by cumulative row weights\n",
    "    weight = 20.0 - target * 19.0\n",
    "    cum_norm_weight = (weight / weight.sum()).cumsum()\n",
    "    four_pct_filter = cum_norm_weight <= 0.04\n",
    "\n",
    "    # default rate captured at 4%\n",
    "    d = target[four_pct_filter].sum() / n_pos\n",
    "\n",
    "    # weighted gini coefficient\n",
    "    lorentz = (target / n_pos).cumsum()\n",
    "    gini = ((lorentz - cum_norm_weight) * weight).sum()\n",
    "\n",
    "    # max weighted gini coefficient\n",
    "    gini_max = 10 * n_neg * (1 - 19 / (n_pos + 20 * n_neg))\n",
    "\n",
    "    # normalized weighted gini coefficient\n",
    "    g = gini / gini_max\n",
    "\n",
    "    return 0.5 * (g + d)\n",
    "\n",
    "def lgb_amex_metric(y_true, y_pred):\n",
    "    \"\"\"The competition metric with lightgbm's calling convention\"\"\"\n",
    "    return ('amex',\n",
    "            amex_metric(y_true, y_pred),\n",
    "            True)"
   ],
   "metadata": {
    "execution": {
     "iopub.status.busy": "2022-08-04T19:44:17.128771Z",
     "iopub.execute_input": "2022-08-04T19:44:17.129615Z",
     "iopub.status.idle": "2022-08-04T19:44:17.143265Z",
     "shell.execute_reply.started": "2022-08-04T19:44:17.129561Z",
     "shell.execute_reply": "2022-08-04T19:44:17.141922Z"
    },
    "trusted": true
   },
   "execution_count": 2,
   "outputs": []
  },
  {
   "cell_type": "code",
   "source": [
    "%%time\n",
    "\n",
    "for i in ['test','train']:\n",
    "    df = pd.read_parquet(f'../input/amex-data-integer-dtypes-parquet-format/{i}.parquet')\n",
    "    \n",
    "    unique_people = pd.Categorical(df.pop('customer_ID'), ordered=True)\n",
    "    \n",
    "    fitures = df.columns.drop('S_2')\n",
    "    \n",
    "    df_avg = (df\n",
    "              .groupby(unique_people)\n",
    "              .mean()[fitures]\n",
    "              .rename(columns={f: f\"{f}_avg\" for f in fitures})\n",
    "             )\n",
    "    gc.collect()\n",
    "    \n",
    "    df = pd.concat([df_avg], axis=1)\n",
    "         \n",
    "    if i == 'train': train = df\n",
    "    else: test = df\n",
    "    gc.collect()\n",
    "    print(f\"{i} shape: {df.shape}\")\n",
    "    \n",
    "    del df\n",
    "\n",
    "target = pd.read_csv('../input/amex-default-prediction/train_labels.csv').target.values\n",
    "print(f\"target shape: {target.shape}\")"
   ],
   "metadata": {
    "_uuid": "8f2839f25d086af736a60e9eeb907d3b93b6e0e5",
    "_cell_guid": "b1076dfc-b9ad-4769-8c92-a6c4dae69d19",
    "execution": {
     "iopub.status.busy": "2022-08-04T19:44:17.145814Z",
     "iopub.execute_input": "2022-08-04T19:44:17.146341Z",
     "iopub.status.idle": "2022-08-04T19:46:20.260070Z",
     "shell.execute_reply.started": "2022-08-04T19:44:17.146292Z",
     "shell.execute_reply": "2022-08-04T19:46:20.258709Z"
    },
    "trusted": true
   },
   "execution_count": 3,
   "outputs": [
    {
     "name": "stdout",
     "text": "test shape: (924621, 188)\ntrain shape: (458913, 188)\ntarget shape: (458913,)\nCPU times: user 1min 8s, sys: 1min 14s, total: 2min 23s\nWall time: 2min 3s\n",
     "output_type": "stream"
    }
   ]
  },
  {
   "cell_type": "code",
   "source": [
    "from lightgbm import LGBMClassifier, log_evaluation"
   ],
   "metadata": {
    "execution": {
     "iopub.status.busy": "2022-08-04T19:46:20.262627Z",
     "iopub.execute_input": "2022-08-04T19:46:20.264063Z",
     "iopub.status.idle": "2022-08-04T19:46:21.259489Z",
     "shell.execute_reply.started": "2022-08-04T19:46:20.263990Z",
     "shell.execute_reply": "2022-08-04T19:46:21.258102Z"
    },
    "trusted": true
   },
   "execution_count": 4,
   "outputs": [
    {
     "output_type": "display_data",
     "data": {
      "text/plain": "<IPython.core.display.HTML object>",
      "text/html": "<style type='text/css'>\n.datatable table.frame { margin-bottom: 0; }\n.datatable table.frame thead { border-bottom: none; }\n.datatable table.frame tr.coltypes td {  color: #FFFFFF;  line-height: 6px;  padding: 0 0.5em;}\n.datatable .bool    { background: #DDDD99; }\n.datatable .object  { background: #565656; }\n.datatable .int     { background: #5D9E5D; }\n.datatable .float   { background: #4040CC; }\n.datatable .str     { background: #CC4040; }\n.datatable .time    { background: #40CC40; }\n.datatable .row_index {  background: var(--jp-border-color3);  border-right: 1px solid var(--jp-border-color0);  color: var(--jp-ui-font-color3);  font-size: 9px;}\n.datatable .frame tbody td { text-align: left; }\n.datatable .frame tr.coltypes .row_index {  background: var(--jp-border-color0);}\n.datatable th:nth-child(2) { padding-left: 12px; }\n.datatable .hellipsis {  color: var(--jp-cell-editor-border-color);}\n.datatable .vellipsis {  background: var(--jp-layout-color0);  color: var(--jp-cell-editor-border-color);}\n.datatable .na {  color: var(--jp-cell-editor-border-color);  font-size: 80%;}\n.datatable .sp {  opacity: 0.25;}\n.datatable .footer { font-size: 9px; }\n.datatable .frame_dimensions {  background: var(--jp-border-color3);  border-top: 1px solid var(--jp-border-color0);  color: var(--jp-ui-font-color3);  display: inline-block;  opacity: 0.6;  padding: 1px 10px 1px 5px;}\n</style>\n"
     },
     "metadata": {}
    }
   ]
  },
  {
   "cell_type": "code",
   "source": [],
   "metadata": {
    "trusted": true
   },
   "execution_count": null,
   "outputs": []
  },
  {
   "cell_type": "code",
   "source": [
    "import warnings"
   ],
   "metadata": {
    "execution": {
     "iopub.status.busy": "2022-08-04T19:46:21.261416Z",
     "iopub.execute_input": "2022-08-04T19:46:21.261773Z",
     "iopub.status.idle": "2022-08-04T19:46:21.268106Z",
     "shell.execute_reply.started": "2022-08-04T19:46:21.261740Z",
     "shell.execute_reply": "2022-08-04T19:46:21.266515Z"
    },
    "trusted": true
   },
   "execution_count": 5,
   "outputs": []
  },
  {
   "cell_type": "code",
   "source": [
    "%%time\n",
    "\n",
    "\n",
    "N_estimators = 20500\n",
    "Boosting_type = 'dart'#'gbdt'\n",
    "Min_child_samples = 10\n",
    "Learning_rate = 0.005\n",
    "Reg_lambda = 2\n",
    "Num_leaves = 1023\n",
    "def my_booster(random_state=1, n_estimators=N_estimators):\n",
    "    return LGBMClassifier(boosting_type = Boosting_type,\n",
    "                          n_estimators=n_estimators,\n",
    "                          learning_rate=Learning_rate,\n",
    "                          reg_lambda=Reg_lambda,\n",
    "                          min_child_samples=Min_child_samples,\n",
    "                          num_leaves=Num_leaves,\n",
    "                          early_stopping_rounds = 1500,\n",
    "                          random_state=random_state)\n",
    "\n",
    "\n",
    "y_pred_list = []\n",
    "score_list = []\n",
    "\n",
    "features = [f for f in train.columns if f != 'customer_ID' and f != 'target']\n",
    "kf = StratifiedKFold(n_splits=5)\n",
    "for fold, (idx_tr, idx_va) in enumerate(kf.split(train, target)):\n",
    "    \n",
    "    X_tr, X_va, y_tr, y_va, model = None, None, None, None, None\n",
    "    start_time = datetime.datetime.now()\n",
    "    \n",
    "    X_tr = train.iloc[idx_tr][features]\n",
    "    X_va = train.iloc[idx_va][features]\n",
    "    y_tr = target[idx_tr]\n",
    "    y_va = target[idx_va]\n",
    "    \n",
    "   \n",
    "    \n",
    "    model = my_booster()\n",
    "    with warnings.catch_warnings():\n",
    "        warnings.filterwarnings('ignore', category=UserWarning)    \n",
    "        model.fit(X_tr, y_tr,\n",
    "                eval_set = [(X_va, y_va)], \n",
    "                eval_metric=[lgb_amex_metric],\n",
    "                callbacks=[log_evaluation(100)]) \n",
    "    X_tr, y_tr = None, None#Зачищаем большие чанки памяти\n",
    "    y_va_pred = model.predict_proba(X_va)[:,1]\n",
    "    score = amex_metric(y_va, y_va_pred)\n",
    "    \n",
    "    \n",
    "    \n",
    "    print(f\"Fold {fold+1} | {str(datetime.datetime.now() - start_time)[-12:-7]} |\"\\\n",
    "          f\" {model.n_estimators:5} trees |\"\n",
    "          f\"                Score = {score:.5f}\")\n",
    "   \n",
    "    score_list.append(score)\n",
    "    y_va_pred=pd.DataFrame(y_va_pred)\n",
    "    \n",
    "    #Оцениваем на тесте\n",
    "    y_pred_fold = model.predict_proba(test[features], raw_score=True)\n",
    "    y_pred_list.append(y_pred_fold)\n",
    "    y_pred_fold = pd.DataFrame(y_pred_fold)"
   ],
   "metadata": {
    "execution": {
     "iopub.status.busy": "2022-08-04T19:46:21.270899Z",
     "iopub.execute_input": "2022-08-04T19:46:21.271316Z"
    },
    "trusted": true
   },
   "execution_count": null,
   "outputs": [
    {
     "name": "stdout",
     "text": "[LightGBM] [Warning] early_stopping_round is set=1500, early_stopping_rounds=1500 will be ignored. Current value: early_stopping_round=1500\n[100]\tvalid_0's binary_logloss: 0.534417\tvalid_0's amex: 0.72191\n[200]\tvalid_0's binary_logloss: 0.50338\tvalid_0's amex: 0.726693\n[300]\tvalid_0's binary_logloss: 0.468334\tvalid_0's amex: 0.729303\n[400]\tvalid_0's binary_logloss: 0.443261\tvalid_0's amex: 0.73086\n[500]\tvalid_0's binary_logloss: 0.409119\tvalid_0's amex: 0.734486\n[600]\tvalid_0's binary_logloss: 0.38161\tvalid_0's amex: 0.737092\n[700]\tvalid_0's binary_logloss: 0.364566\tvalid_0's amex: 0.738402\n[800]\tvalid_0's binary_logloss: 0.358026\tvalid_0's amex: 0.739271\n[900]\tvalid_0's binary_logloss: 0.344048\tvalid_0's amex: 0.739708\n[1000]\tvalid_0's binary_logloss: 0.328983\tvalid_0's amex: 0.740961\n[1100]\tvalid_0's binary_logloss: 0.316642\tvalid_0's amex: 0.743248\n[1200]\tvalid_0's binary_logloss: 0.308801\tvalid_0's amex: 0.744863\n[1300]\tvalid_0's binary_logloss: 0.297425\tvalid_0's amex: 0.747509\n[1400]\tvalid_0's binary_logloss: 0.289729\tvalid_0's amex: 0.748615\n",
     "output_type": "stream"
    }
   ]
  },
  {
   "cell_type": "code",
   "source": [],
   "metadata": {},
   "execution_count": null,
   "outputs": []
  }
 ]
}
